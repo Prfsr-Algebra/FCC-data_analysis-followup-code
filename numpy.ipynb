{
 "cells": [
  {
   "cell_type": "markdown",
   "id": "f9738948-07ab-4b5b-bf99-dd9ea4deee3d",
   "metadata": {},
   "source": [
    "## Arrays in Numpy"
   ]
  },
  {
   "cell_type": "markdown",
   "id": "f8766cd6-df5b-4c44-b86a-93391a698883",
   "metadata": {},
   "source": [
    "#### Managing memory"
   ]
  },
  {
   "cell_type": "code",
   "execution_count": 1,
   "id": "6c64ff61-abac-4dc2-892a-78d350b3f0b2",
   "metadata": {},
   "outputs": [
    {
     "name": "stdout",
     "output_type": "stream",
     "text": [
      "[2 7 9]\n"
     ]
    }
   ],
   "source": [
    "import numpy as np\n",
    "A = np.array([2, 7, 9], dtype = np.int8)\n",
    "print(A)"
   ]
  },
  {
   "cell_type": "markdown",
   "id": "8b525d79-26e9-41f2-944c-2eeb03d29476",
   "metadata": {},
   "source": [
    "#### Two dimensional array in numpy"
   ]
  },
  {
   "cell_type": "code",
   "execution_count": 4,
   "id": "50dfed01-90b5-4421-b260-f01e0bc4710a",
   "metadata": {},
   "outputs": [
    {
     "data": {
      "text/plain": [
       "array([[10, 30, 40],\n",
       "       [34, 43, 25],\n",
       "       [34, 67, 89]])"
      ]
     },
     "execution_count": 4,
     "metadata": {},
     "output_type": "execute_result"
    }
   ],
   "source": [
    "B = np.array([\n",
    "    [10, 30, 40],\n",
    "    [34, 43, 25],\n",
    "    [34, 67, 89],\n",
    "])\n",
    "B"
   ]
  },
  {
   "cell_type": "code",
   "execution_count": 9,
   "id": "772b7a5d-d523-4de1-af06-ee6176f0cbc8",
   "metadata": {},
   "outputs": [
    {
     "name": "stdout",
     "output_type": "stream",
     "text": [
      "7\n",
      "[34 43 25]\n",
      "30\n"
     ]
    }
   ],
   "source": [
    "print(A[1])\n",
    "print(B[1])\n",
    "print(B[0][1])"
   ]
  },
  {
   "cell_type": "markdown",
   "id": "984dda3a-7d2f-42e5-84ab-3794e51bf03e",
   "metadata": {},
   "source": [
    "#### Editing the elements of an array"
   ]
  },
  {
   "cell_type": "code",
   "execution_count": 12,
   "id": "18842627-b99d-4801-9615-fc36a0b9f7ff",
   "metadata": {},
   "outputs": [
    {
     "name": "stdout",
     "output_type": "stream",
     "text": [
      "[45  7  9]\n",
      "[[10 67 40]\n",
      " [34 43 25]\n",
      " [ 1  2  3]]\n"
     ]
    }
   ],
   "source": [
    "A[0] = 45\n",
    "B[0][1] = 67\n",
    "B[2] = [ 1, 2, 3]\n",
    "print (A)\n",
    "print(B)"
   ]
  },
  {
   "cell_type": "markdown",
   "id": "bff2149d-6237-47d8-824a-303932d121c9",
   "metadata": {},
   "source": [
    "#### Basic operations on array"
   ]
  },
  {
   "cell_type": "code",
   "execution_count": 13,
   "id": "23ccc45a-64e2-4c94-b309-b1e90d17c60b",
   "metadata": {},
   "outputs": [
    {
     "name": "stdout",
     "output_type": "stream",
     "text": [
      "61\n",
      "20.333333333333332\n",
      "17.46106780494506\n",
      "[ 45 112  68]\n",
      "[23.28089345  7.34846923  0.81649658]\n"
     ]
    }
   ],
   "source": [
    "c = A.sum()\n",
    "d = A.mean()\n",
    "e = A.std()\n",
    "f = B.sum(axis = 0)\n",
    "g = B.std(axis = 1)\n",
    "print(c)\n",
    "print(d)\n",
    "print(e)\n",
    "print(f)\n",
    "print(g)"
   ]
  },
  {
   "cell_type": "markdown",
   "id": "2354e0db-8f2d-428d-966e-b97b32cd1445",
   "metadata": {},
   "source": [
    "#### Slicing an array"
   ]
  },
  {
   "cell_type": "code",
   "execution_count": 15,
   "id": "1d454c34-2a67-47ee-b04e-79869354e7fe",
   "metadata": {},
   "outputs": [
    {
     "name": "stdout",
     "output_type": "stream",
     "text": [
      "[[10]\n",
      " [34]\n",
      " [ 1]]\n"
     ]
    }
   ],
   "source": [
    "C = B[0:, :1]\n",
    "print(C)"
   ]
  },
  {
   "cell_type": "code",
   "execution_count": 16,
   "id": "b6329f16-6f5e-4b18-b475-6a375f2ec447",
   "metadata": {},
   "outputs": [
    {
     "name": "stdout",
     "output_type": "stream",
     "text": [
      "[[40]]\n"
     ]
    }
   ],
   "source": [
    "D = B[:1, 2:]\n",
    "print(D)"
   ]
  },
  {
   "cell_type": "markdown",
   "id": "2b7e4c5c-1530-463d-a5ec-0a6ad77ed570",
   "metadata": {},
   "source": [
    "#### Vectorized Operation"
   ]
  },
  {
   "cell_type": "code",
   "execution_count": 17,
   "id": "8bc6a456-8399-4e68-b1f8-958805f8000c",
   "metadata": {},
   "outputs": [
    {
     "data": {
      "text/plain": [
       "array([47,  9, 11], dtype=int8)"
      ]
     },
     "execution_count": 17,
     "metadata": {},
     "output_type": "execute_result"
    }
   ],
   "source": [
    "A + 2"
   ]
  },
  {
   "cell_type": "code",
   "execution_count": 18,
   "id": "b4f266cd-dbea-415a-b3ef-2dc9fa466372",
   "metadata": {},
   "outputs": [
    {
     "name": "stdout",
     "output_type": "stream",
     "text": [
      "[45  7  9]\n"
     ]
    }
   ],
   "source": [
    "print(A)"
   ]
  },
  {
   "cell_type": "code",
   "execution_count": 19,
   "id": "a7f1a3f5-08e8-4a97-b2c3-40753874475d",
   "metadata": {},
   "outputs": [
    {
     "name": "stdout",
     "output_type": "stream",
     "text": [
      "[[12 69 42]\n",
      " [36 45 27]\n",
      " [ 3  4  5]]\n"
     ]
    }
   ],
   "source": [
    "E =  B + 2\n",
    "print(E)"
   ]
  },
  {
   "cell_type": "code",
   "execution_count": 20,
   "id": "a7f69091-9ec8-40f7-bed2-8d3d4ea8db1f",
   "metadata": {},
   "outputs": [
    {
     "data": {
      "text/plain": [
       "array([47,  9, 11], dtype=int8)"
      ]
     },
     "execution_count": 20,
     "metadata": {},
     "output_type": "execute_result"
    }
   ],
   "source": [
    "A += 2\n",
    "A"
   ]
  },
  {
   "cell_type": "markdown",
   "id": "c13ec841-2c1e-4aca-ae72-e43c8ded3358",
   "metadata": {},
   "source": [
    "#### Array of evenly spaced values"
   ]
  },
  {
   "cell_type": "code",
   "execution_count": 22,
   "id": "41342e44-3c7d-498a-8a32-7aac3349c732",
   "metadata": {},
   "outputs": [
    {
     "data": {
      "text/plain": [
       "array([ 3,  7, 11, 15, 19])"
      ]
     },
     "execution_count": 22,
     "metadata": {},
     "output_type": "execute_result"
    }
   ],
   "source": [
    "F = np.arange(3, 20, 4)\n",
    "F"
   ]
  },
  {
   "cell_type": "code",
   "execution_count": 24,
   "id": "53b3fb54-e2d3-4a0b-b1aa-a189463af12f",
   "metadata": {},
   "outputs": [
    {
     "name": "stdout",
     "output_type": "stream",
     "text": [
      "[0 1 2 3 4]\n"
     ]
    }
   ],
   "source": [
    "G = np.arange(5)\n",
    "print(G)"
   ]
  },
  {
   "cell_type": "code",
   "execution_count": 26,
   "id": "f1187922-74e5-40be-8dcd-f13517eb8214",
   "metadata": {},
   "outputs": [
    {
     "data": {
      "text/plain": [
       "array([2, 3, 4, 5])"
      ]
     },
     "execution_count": 26,
     "metadata": {},
     "output_type": "execute_result"
    }
   ],
   "source": [
    "H = np.arange(2, 6)\n",
    "H"
   ]
  },
  {
   "cell_type": "code",
   "execution_count": null,
   "id": "6ba866a7-bb77-4695-a431-2cda7736f741",
   "metadata": {},
   "outputs": [],
   "source": []
  }
 ],
 "metadata": {
  "kernelspec": {
   "display_name": "Python 3 (ipykernel)",
   "language": "python",
   "name": "python3"
  },
  "language_info": {
   "codemirror_mode": {
    "name": "ipython",
    "version": 3
   },
   "file_extension": ".py",
   "mimetype": "text/x-python",
   "name": "python",
   "nbconvert_exporter": "python",
   "pygments_lexer": "ipython3",
   "version": "3.12.3"
  }
 },
 "nbformat": 4,
 "nbformat_minor": 5
}
